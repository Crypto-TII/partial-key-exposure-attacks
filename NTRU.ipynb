{
 "cells": [
  {
   "cell_type": "code",
   "execution_count": 30,
   "id": "creative-august",
   "metadata": {},
   "outputs": [],
   "source": [
    "from math import log2,inf\n",
    "from math import comb as binom\n",
    "import itertools"
   ]
  },
  {
   "cell_type": "markdown",
   "id": "military-catholic",
   "metadata": {},
   "source": [
    "### Combinatorial Approach"
   ]
  },
  {
   "cell_type": "code",
   "execution_count": 22,
   "id": "received-raleigh",
   "metadata": {},
   "outputs": [],
   "source": [
    "#cost for MitM within the combinatorial NTRU attack, where the two lists are each of size L\n",
    "def cost_mitm(L,n,q,weight_g,verb=0,packed=0):\n",
    "    T=inf\n",
    "    for l in range(1,30):\n",
    "        if not(packed):\n",
    "            tmp=max(2+log2(l)+L,2*L-log2(q)*l+log2(l*n))+log2(1/(1-w_g/n))*l+log2(q)*2\n",
    "        else:\n",
    "            tmp=max(log2(20)+log2(l)+L,2*L-log2(q)*l+log2(l*n))+log2(1/(1-w_g/n))*l+log2(q)*2\n",
    "        if tmp<T:\n",
    "            lval=l\n",
    "            T=tmp\n",
    "    if verb:\n",
    "        return T,lval\n",
    "    return T"
   ]
  },
  {
   "cell_type": "code",
   "execution_count": 23,
   "id": "cubic-associate",
   "metadata": {},
   "outputs": [],
   "source": [
    "#Packed and unpacked complexity in error model\n",
    "def packed_mitm_error(n,q,w_g,p,verb=0,asym=0):\n",
    "    if not(asym):\n",
    "        L=log2(binom(ceil(n/5*8/2),ceil(n/5*8/2*p)))\n",
    "    else:\n",
    "        L=log2(binom(ceil((0.5+p/2)*n/5*8/2),ceil(0.5*n/5*8/2*p)))\n",
    "    return cost_mitm(L,n,q,w_g,verb=verb,packed=1)\n",
    "\n",
    "def unpacked_mitm_error(n,q,w_g,p,verb=0,asym=0):\n",
    "    if not(asym):\n",
    "        L=log2(binom(ceil(n),ceil(n*p)))\n",
    "    else:\n",
    "        k=2/3*n*(1-p)\n",
    "        L=log2(binom(ceil((n-k)),ceil((n-k)*p)))\n",
    "    return cost_mitm(L,n,q,w_g,verb=verb)"
   ]
  },
  {
   "cell_type": "code",
   "execution_count": 24,
   "id": "assisted-decision",
   "metadata": {},
   "outputs": [],
   "source": [
    "#Packed and unpacked complexity in erasure model\n",
    "def packed_mitm_erasure(n,q,w_g,erasures,verb=0):\n",
    "    L=erasures/2\n",
    "    T=cost_mitm(L,n,q,w_g,verb=verb,packed=1)\n",
    "    return T\n",
    "\n",
    "def unpacked_mitm_erasure(n,q,w_g,w_f,p,verb=0):\n",
    "    L=(2*2*p*(1-p)/3+p^2*log2(3))*(n-1)\n",
    "    return cost_mitm(L/2,n,q,w_g,verb=verb)"
   ]
  },
  {
   "cell_type": "markdown",
   "id": "regulation-difference",
   "metadata": {},
   "source": [
    "### Lattice-based Approach\n",
    "\n",
    "Make Sure the lwe-estimator is located in the same folder as this file, i.e., you cloned the lwe estimator repository (https://bitbucket.org/malb/lwe-estimator) into \"./lwe-estimator\"\n",
    "such that the command \n",
    "\n",
    "`load(\"./lwe-estimator/estimator.py\")` \n",
    "\n",
    "does not fail"
   ]
  },
  {
   "cell_type": "code",
   "execution_count": 25,
   "id": "compound-foster",
   "metadata": {},
   "outputs": [],
   "source": [
    "load(\"./lwe-estimator/estimator.py\")\n",
    "\n",
    "#calculates complexity of given \n",
    "def lwe_complexity(n,q,w_secret,w_error,samples,accuracy=1,err=0):\n",
    "    norm = sqrt(w_error)\n",
    "    sd = norm/sqrt(n)\n",
    "    alpha = sqrt(2*pi)*sd/RR(q)\n",
    "    m = samples\n",
    "    if not(err):\n",
    "        secret_distribution = ((-1,1),w_secret) # erasure model\n",
    "    else:\n",
    "        secret_distribution = ((-2,2),w_secret) # error model\n",
    "    success_probability = 0.99\n",
    "    if accuracy:\n",
    "        reduction_cost_model =  BKZ.BDGL16\n",
    "    else:\n",
    "        reduction_cost_model =  lambda beta, d, B: BKZ.LLL(d, B) +ZZ(2)**RR(0.3496 * beta + 16.4 + log(BKZ.svp_repeat(beta, d), 2))\n",
    "\n",
    "    primald = partial(drop_and_solve, primal_usvp, postprocess=False, decision=False)\n",
    "    if n>20:\n",
    "        cost = primald(n, alpha, q, secret_distribution=secret_distribution, m=samples,     success_probability=success_probability,    reduction_cost_model=reduction_cost_model)\n",
    "    else:\n",
    "        cost=primal_usvp(n, alpha, q, secret_distribution=secret_distribution, m=samples,     success_probability=success_probability,    reduction_cost_model=reduction_cost_model)\n",
    "\n",
    "    return log2(cost[\"rop\"])\n"
   ]
  },
  {
   "cell_type": "code",
   "execution_count": 26,
   "id": "undefined-effect",
   "metadata": {},
   "outputs": [],
   "source": [
    "def lattice_erasure_unpacked(n,q,w_f,w_g,p):\n",
    "    pq=p/3*(4-p)\n",
    "    k=max(5,round(pq*n))\n",
    "    weight_secret=max(2,round(2*k/3))\n",
    "    if k<20:\n",
    "        return k\n",
    "    return lwe_complexity(k,q,weight_secret,round(w_g*k/n),n,accuracy=0)\n",
    "\n",
    "def lattice_erasure_packed(n,q,w_f,w_g,p):\n",
    "    erasure=[3.03,4.23,4.69,4.88,4.96,4.99,5,5]\n",
    "    t=0\n",
    "    for i in range(1,9):\n",
    "        t+=(binom(8,i)*p^i*(1-p)^(8-i)*ceil(n/5)*erasure[i-1])\n",
    "    \n",
    "    weight_secret=max(2,(ceil(t*2/3)))\n",
    "    t=round(max(5,t))\n",
    "    if t<20:\n",
    "        return 0\n",
    "    return lwe_complexity(t,q,weight_secret,round(w_g*t/n),n,accuracy=0)\n"
   ]
  },
  {
   "cell_type": "code",
   "execution_count": 27,
   "id": "optimum-jacob",
   "metadata": {},
   "outputs": [],
   "source": [
    "def lattice_error_unpacked(n,q,w_f,w_g,p,asym=0):\n",
    "    pq=2*p-p^2\n",
    "    if not(asym):\n",
    "        k=n\n",
    "        weight_error=w_g\n",
    "        weight_secret=min(k-1,max(2,round(pq*n)))\n",
    "        error21=1\n",
    "    else:\n",
    "        k=max(2,round(n/3*(1+2*p)))\n",
    "        weight_error=max(2,int(round(w_g*k/n)))\n",
    "        weight_secret=max(2,int(round(2*n/3*p)))\n",
    "        error21=0\n",
    "    \n",
    "    k=max(2,k)\n",
    "    return lwe_complexity(k,q,weight_secret,weight_error,n,accuracy=0,err=error21)\n",
    "\n",
    "def lattice_error_packed(n,q,w_f,w_g,p):\n",
    "    erasure=[3.02,3.06,3.44,3.37,3.44,3.42,3.42,3.39]\n",
    "    t=0\n",
    "    for i in range(1,9):\n",
    "        t+=round(binom(8,i)*p^i*(1-p)^(8-i)*n/5*erasure[i-1])\n",
    "    weight_secret=max(2,int(t))\n",
    "    return lwe_complexity(n,q,weight_secret,w_g,n,accuracy=0,err=1)"
   ]
  },
  {
   "cell_type": "markdown",
   "id": "indirect-tract",
   "metadata": {},
   "source": [
    "#### Choose parameter set "
   ]
  },
  {
   "cell_type": "code",
   "execution_count": 31,
   "id": "excited-cocktail",
   "metadata": {},
   "outputs": [],
   "source": [
    "n=509\n",
    "q=2048\n",
    "w_g=q/8-2\n",
    "w_f=(2*n-1)/3"
   ]
  },
  {
   "cell_type": "code",
   "execution_count": 1950,
   "id": "whole-arthritis",
   "metadata": {},
   "outputs": [],
   "source": [
    "n=677\n",
    "q=2048\n",
    "w_g=q/8-2\n",
    "w_f=(2*n-1)/3"
   ]
  },
  {
   "cell_type": "code",
   "execution_count": 1964,
   "id": "compatible-petroleum",
   "metadata": {},
   "outputs": [],
   "source": [
    "n=821\n",
    "q=4096\n",
    "w_g=q/8-2\n",
    "w_f=(2*n-1)/3"
   ]
  },
  {
   "cell_type": "markdown",
   "id": "stone-disabled",
   "metadata": {},
   "source": [
    "### Calculate complexity of combinatorial attacks"
   ]
  },
  {
   "cell_type": "code",
   "execution_count": 47,
   "id": "stupid-theorem",
   "metadata": {},
   "outputs": [],
   "source": [
    "#combinatorial attacks\n",
    "L_erasure_packed=[]\n",
    "L_erasure_unpacked=[]\n",
    "L_erasure_unpacked_no_simulate=[]\n",
    "L_packed_error_asym=[]\n",
    "L_packed_error_sym=[]\n",
    "L_unpacked_error_sym=[]\n",
    "L_unpacked_error_asym=[]\n",
    "p1=0.001\n",
    "while p1<1:\n",
    "    L_erasure_packed.append([p1,packed_mitm_erasure(n,q,w_g,p1*n/5*8)])\n",
    "    L_erasure_unpacked.append([p1,unpacked_mitm_erasure(n,q,w_g,w_f,p1)])\n",
    "    L_erasure_unpacked_no_simulate.append([p1,unpacked_mitm_erasure_no_simulate(n,q,w_g,w_f,p1)])    \n",
    "    L_packed_error_asym.append([p1,packed_mitm_error(n,q,w_g,p1,asym=1)])\n",
    "    L_packed_error_sym.append([p1,packed_mitm_error(n,q,w_g,p1,asym=0)])\n",
    "    L_unpacked_error_sym.append([p1,unpacked_mitm_error(n,q,w_g,p1,asym=0)])\n",
    "    L_unpacked_error_asym.append([p1,unpacked_mitm_error(n,q,w_g,p1,asym=1)])\n",
    "    p1+=0.001"
   ]
  },
  {
   "cell_type": "markdown",
   "id": "ahead-rings",
   "metadata": {},
   "source": [
    "### Calculate complexity of lattice erasure attack"
   ]
  },
  {
   "cell_type": "code",
   "execution_count": 33,
   "id": "sought-former",
   "metadata": {},
   "outputs": [],
   "source": [
    "#Lattice Erasure\n",
    "L_lattice_erasure_packed=[]\n",
    "L_lattice_erasure_unpacked=[]\n",
    "p1=0.001\n",
    "while p1<1:\n",
    "    L_lattice_erasure_packed.append([p1,lattice_erasure_packed(n,q,w_f,w_g,p1)])\n",
    "    L_lattice_erasure_unpacked.append([p1,lattice_erasure_unpacked(n,q,w_f,w_g,p1)])\n",
    "    p1+=0.005\n"
   ]
  },
  {
   "cell_type": "markdown",
   "id": "distinguished-berlin",
   "metadata": {},
   "source": [
    "### Calculate complexity of lattice symmetric error attacks"
   ]
  },
  {
   "cell_type": "code",
   "execution_count": 34,
   "id": "graphic-bubble",
   "metadata": {},
   "outputs": [],
   "source": [
    "#Lattice Error Sym\n",
    "L_lattice_error_packed_sym=[]\n",
    "L_lattice_error_unpacked_sym=[]\n",
    "p1=0.001\n",
    "while p1<0.2:\n",
    "    L_lattice_error_packed_sym.append([p1,lattice_error_packed(n,q,w_f,w_g,p1)])\n",
    "    L_lattice_error_unpacked_sym.append([p1,lattice_error_unpacked(n,q,w_f,w_g,p1,asym=0)])\n",
    "    p1+=0.001\n"
   ]
  },
  {
   "cell_type": "markdown",
   "id": "figured-tract",
   "metadata": {},
   "source": [
    "### Calculate complexity of lattice asymmetric error attacks"
   ]
  },
  {
   "cell_type": "code",
   "execution_count": 35,
   "id": "mounted-parking",
   "metadata": {},
   "outputs": [],
   "source": [
    "#Lattice Error Asym\n",
    "L_lattice_error_packed_asym=[]\n",
    "L_lattice_error_unpacked_asym=[]\n",
    "p1=0.001\n",
    "\n",
    "while p1<1:\n",
    "\n",
    "    L_lattice_error_packed_asym.append([p1,lattice_error_packed(n,q,w_f,w_g,p1)])\n",
    "    L_lattice_error_unpacked_asym.append([p1,lattice_error_unpacked(n,q,w_f,w_g,p1,asym=1)])\n",
    "    if p1<0.2:\n",
    "        p1+=0.001\n",
    "    else:\n",
    "        p1+=0.05\n",
    "\n"
   ]
  },
  {
   "cell_type": "code",
   "execution_count": 49,
   "id": "joint-dating",
   "metadata": {},
   "outputs": [
    {
     "data": {
      "image/png": "[encoded data removed]",
      "text/plain": [
       "Graphics object consisting of 2 graphics primitives"
      ]
     },
     "execution_count": 49,
     "metadata": {},
     "output_type": "execute_result"
    }
   ],
   "source": [
    "list_plot(L_lattice_erasure_packed)+list_plot(L_lattice_erasure_unpacked,color=\"green\")"
   ]
  },
  {
   "cell_type": "code",
   "execution_count": 50,
   "id": "cardiovascular-directory",
   "metadata": {},
   "outputs": [
    {
     "data": {
      "image/png": "[encoded data removed]",
      "text/plain": [
       "Graphics object consisting of 3 graphics primitives"
      ]
     },
     "execution_count": 50,
     "metadata": {},
     "output_type": "execute_result"
    }
   ],
   "source": [
    "rang=200\n",
    "list_plot(L_lattice_error_packed_sym[:rang])+list_plot(L_lattice_error_unpacked_sym[:rang],color=\"green\")+list_plot(L_packed_error_sym[:rang],color=\"orange\")"
   ]
  },
  {
   "cell_type": "code",
   "execution_count": 51,
   "id": "entitled-negative",
   "metadata": {},
   "outputs": [
    {
     "data": {
      "image/png": "[encoded data removed]",
      "text/plain": [
       "Graphics object consisting of 3 graphics primitives"
      ]
     },
     "execution_count": 51,
     "metadata": {},
     "output_type": "execute_result"
    }
   ],
   "source": [
    "rang=5000\n",
    "list_plot(L_lattice_error_packed_asym[:rang])+list_plot(L_lattice_error_unpacked_asym[:rang],color=\"green\")+list_plot(L_packed_error_asym[:rang],color=\"orange\")"
   ]
  },
  {
   "cell_type": "markdown",
   "id": "subtle-teddy",
   "metadata": {},
   "source": [
    "### Calculate NTRU expected error / erasure when converting from packed to unpacked format"
   ]
  },
  {
   "cell_type": "code",
   "execution_count": 56,
   "id": "comparative-binary",
   "metadata": {},
   "outputs": [
    {
     "name": "stdout",
     "output_type": "stream",
     "text": [
      "[3.02829218106996, 4.22648442092887, 4.68577307466196, 4.87771898883010, 4.96002351557907, 4.99059376837155, 5.00000000000000, 5.00000000000000]\n",
      "[3.02829218106996, 3.06158142269253, 3.43489124044680, 3.35114638447972, 3.41740152851264, 3.38286302175191, 3.37757201646091, 3.33333333333333]\n"
     ]
    }
   ],
   "source": [
    "# C(#S, m)\n",
    "def findsubsets(S,m):\n",
    "    return set(itertools.combinations(S, m))\n",
    "\n",
    "# erasure\n",
    "\n",
    "prob_erasure = [[0.0 for j in range(6)] for i in range(8)]\n",
    "# setup\n",
    "S = {0,1,2,3,4,5,6,7}\n",
    "\n",
    "for k in range(1,9,1):\n",
    "\n",
    "    MS = findsubsets(S, k); # #S choose k\n",
    "\n",
    "    array_diff = [0 for i in range(6)];\n",
    "\n",
    "    for num in range(243): # 3**5 possibilities with 5 many F_3 elements\n",
    "        for flip in MS: # over all possible C(8,k) choices\n",
    "\n",
    "            num_vary = [num for i in range(2**k)]\n",
    "            for i in range(2**k): # flip the k many bits (enumerate all possibilities)\n",
    "                v = i;\n",
    "                for j in range(k):\n",
    "                    num_vary[i] = num_vary[i] ^^ (v%2)*(2**flip[j])\n",
    "                    v = v>>1;\n",
    "\n",
    "            # compare w.r.t field representation\n",
    "            num_diff = 0;\n",
    "            for iter in range(5):\n",
    "                for i in range(2**k):\n",
    "                    if (num_vary[0]%3) != (num_vary[i]%3):\n",
    "                        num_diff += 1;\n",
    "                        break;\n",
    "                for i in range(2**k):\n",
    "                    num_vary[i] = num_vary[i]//3\n",
    "\n",
    "            array_diff[num_diff] += 1;\n",
    "\n",
    "    prob_erasure[k-1] = [array_diff[i]/sum(array_diff) for i in range(6)]\n",
    "\n",
    "exp_erasure = [0.0 for i in range(8)]\n",
    "for i in range(8):\n",
    "    for j in range(5):\n",
    "        exp_erasure[i] += prob_erasure[i][j+1]*(j+1)\n",
    "print(exp_erasure)\n",
    "\n",
    "\n",
    "# symmetric error\n",
    "\n",
    "prob_error_sym = [[0.0 for j in range(6)] for i in range(8)]\n",
    "# setup\n",
    "S = {0,1,2,3,4,5,6,7}\n",
    "\n",
    "for k in range(1,9,1):\n",
    "    \n",
    "    MS = findsubsets(S, k); # #S choose k\n",
    "\n",
    "    array_diff = [0 for i in range(6)];\n",
    "\n",
    "    for num in range(243): # 3**5 possibilities with 5 many F_3 elements\n",
    "        for flip in MS: # over all possible C(8,k) choices\n",
    "\n",
    "            num_vary = [num for i in range(2)]\n",
    "            for j in range(k): # flip the k many bits\n",
    "                num_vary[1] = num_vary[1] ^^ (2**flip[j])\n",
    "\n",
    "            # compare w.r.t field representation\n",
    "            num_diff = 0;\n",
    "            for iter in range(5):\n",
    "                if (num_vary[0]%3) != (num_vary[1]%3):\n",
    "                    num_diff += 1;\n",
    "                for i in range(2):\n",
    "                    num_vary[i] = num_vary[i]//3\n",
    "\n",
    "            array_diff[num_diff] += 1;\n",
    "\n",
    "    prob_error_sym[k-1] = [array_diff[i]/sum(array_diff) for i in range(6)]\n",
    "\n",
    "exp_error_sym = [0.0 for i in range(8)]\n",
    "for i in range(8):\n",
    "    for j in range(5):\n",
    "        exp_error_sym[i] += prob_error_sym[i][j+1]*(j+1)\n",
    "print(exp_error_sym)\n"
   ]
  }
 ],
 "metadata": {
  "kernelspec": {
   "display_name": "SageMath 9.2",
   "language": "sage",
   "name": "sagemath"
  },
  "language_info": {
   "codemirror_mode": {
    "name": "ipython",
    "version": 3
   },
   "file_extension": ".py",
   "mimetype": "text/x-python",
   "name": "python",
   "nbconvert_exporter": "python",
   "pygments_lexer": "ipython3",
   "version": "3.8.5"
  }
 },
 "nbformat": 4,
 "nbformat_minor": 5
}
